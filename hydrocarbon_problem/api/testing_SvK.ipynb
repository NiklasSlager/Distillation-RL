{
 "cells": [
  {
   "cell_type": "code",
   "execution_count": 1,
   "metadata": {},
   "outputs": [],
   "source": [
    "# The purpose of the following file is to make a testing of already made properties\n",
    "# Import all the needed libraries\n",
    "import os\n",
    "from Simulation import Simulation\n",
    "import numpy as np"
   ]
  },
  {
   "cell_type": "code",
   "execution_count": 2,
   "metadata": {},
   "outputs": [],
   "source": [
    "#Defining Testing Values\n",
    "PATH = 'C:/Users/s2399016/Documents/ASPEN-RL_V2/Aspen-RL/hydrocarbon_problem/AspenSimulation/HydrocarbonMixture.bkp'\n",
    "VISIBILITY = True\n",
    "NSTAGES = 20\n",
    "FEED_STAGE = 10 \n",
    "REFLUX = 2\n",
    "REBOILER = 2\n",
    "PRESSURE = 1\n",
    "FEED_NAME = \"S1\"\n",
    "CHEMICALS = [\"ETHANE\",\"PROPANE\",\"I-BUTANE\",\"N-BUTANE\",\"I-PENTAN\",\"N-PENTAN\"]\n",
    "FLOWRATE = [1,1,1,1,1,1]\n",
    "TEMPERATURE = 60"
   ]
  },
  {
   "cell_type": "code",
   "execution_count": 3,
   "metadata": {},
   "outputs": [],
   "source": [
    "#Initiate the Flowsheet\n",
    "flowsheet = Simulation(PATH,VISIBILITY)"
   ]
  },
  {
   "cell_type": "code",
   "execution_count": 4,
   "metadata": {},
   "outputs": [],
   "source": [
    "#Defining the Distillation Column Properties\n",
    "FEED_LOC_CHOOSE = flowsheet.BLK_FeedLocation(Feed_Location=FEED_STAGE,Feed_Name=\"S1\")\n",
    "N_STAGES_CHOOSE = flowsheet.BLK_NumberOfStages(NSTAGES)\n",
    "PRES_DIST_CHOOSE = flowsheet.BLK_Pressure(PRESSURE)\n",
    "RFX_DIST_CHOOSE = flowsheet.BLK_RefluxRatio(REFLUX)\n",
    "RBL_DIST_CHOOSE = flowsheet.BLK_ReboilerRatio(REBOILER)\n",
    "#Defining the FEED Stream Properties \n",
    "FEED_TEMP = flowsheet.STRM_Temperature(FEED_NAME,TEMPERATURE)\n",
    "FEED_PRES = flowsheet.STRM_Pressure(FEED_NAME,PRESSURE)\n",
    "FEED_COMP_1_FLOW = flowsheet.STRM_Flowrate(FEED_NAME,CHEMICALS[0],FLOWRATE[0])\n",
    "FEED_COMP_2_FLOW = flowsheet.STRM_Flowrate(FEED_NAME,CHEMICALS[1],FLOWRATE[1])\n",
    "FEED_COMP_3_FLOW = flowsheet.STRM_Flowrate(FEED_NAME,CHEMICALS[2],FLOWRATE[2])\n",
    "FEED_COMP_4_FLOW = flowsheet.STRM_Flowrate(FEED_NAME,CHEMICALS[3],FLOWRATE[3])\n",
    "FEED_COMP_5_FLOW = flowsheet.STRM_Flowrate(FEED_NAME,CHEMICALS[4],FLOWRATE[4])\n",
    "FEED_COMP_6_FLOW = flowsheet.STRM_Flowrate(FEED_NAME,CHEMICALS[5],FLOWRATE[5])"
   ]
  },
  {
   "cell_type": "code",
   "execution_count": 5,
   "metadata": {},
   "outputs": [],
   "source": [
    "# We can run the Simulation\n",
    "flowsheet.Run()"
   ]
  },
  {
   "cell_type": "code",
   "execution_count": 6,
   "metadata": {},
   "outputs": [
    {
     "name": "stdout",
     "output_type": "stream",
     "text": [
      "feed location:  10\n",
      "column pressure:  1.0\n",
      "column reflux ratio:  2.0\n",
      "column reboiler ratio:  2.0\n",
      "feed temperature:  60.0\n",
      "destillation reboiler duty:  101422753.0\n",
      "distillation condenser duty:  -277824314.0\n"
     ]
    }
   ],
   "source": [
    "#printing all the changed values\n",
    "print(\"feed location: \", flowsheet.BLK_Get_FeedLocation(\"S1\"))\n",
    "NSTAGES = flowsheet.BLK_Get_NStages()\n",
    "CHEMICALS = [\"ETHANE\",\"PROPANE\",\"I-BUTANE\",\"N-BUTANE\",\"I-PENTAN\",\"N-PENTAN\"]\n",
    "print(\"column pressure: \",flowsheet.BLK_Get_Pressure())\n",
    "print(\"column reflux ratio: \", flowsheet.BLK_Get_RefluxRatio())\n",
    "print(\"column reboiler ratio: \", flowsheet.BLK_Get_ReboilerRatio())\n",
    "print(\"feed temperature: \",flowsheet.STRM_Get_Temperature(\"S1\"))\n",
    "print(\"destillation reboiler duty: \", flowsheet.BLK_Get_Reboiler_Duty())\n",
    "print(\"distillation condenser duty: \", flowsheet.BLK_Get_Condenser_Duty())\n"
   ]
  },
  {
   "cell_type": "code",
   "execution_count": 18,
   "metadata": {},
   "outputs": [
    {
     "ename": "AttributeError",
     "evalue": "'Simulation' object has no attribute 'column_input_specification'",
     "output_type": "error",
     "traceback": [
      "\u001b[1;31m---------------------------------------------------------------------------\u001b[0m",
      "\u001b[1;31mAttributeError\u001b[0m                            Traceback (most recent call last)",
      "\u001b[1;32m<ipython-input-18-1f0d2d9108c1>\u001b[0m in \u001b[0;36m<module>\u001b[1;34m\u001b[0m\n\u001b[0;32m      1\u001b[0m \u001b[1;31m# How to indirectly calculate the column diameter\u001b[0m\u001b[1;33m\u001b[0m\u001b[1;33m\u001b[0m\u001b[1;33m\u001b[0m\u001b[0m\n\u001b[1;32m----> 2\u001b[1;33m print(\"column diameter: \",str(flowsheet.CAL_Column_Diameter(flowsheet.column_input_specification.n_stages, \n\u001b[0m\u001b[0;32m      3\u001b[0m                                                        \u001b[0mcolumn_output_specification\u001b[0m\u001b[1;33m.\u001b[0m\u001b[0mvapor_flow_per_stage\u001b[0m\u001b[1;33m,\u001b[0m\u001b[1;33m\u001b[0m\u001b[1;33m\u001b[0m\u001b[0m\n\u001b[0;32m      4\u001b[0m                                                        \u001b[0mcolumn_output_specification\u001b[0m\u001b[1;33m.\u001b[0m\u001b[0mmolar_weight_per_stage\u001b[0m\u001b[1;33m,\u001b[0m\u001b[1;33m\u001b[0m\u001b[1;33m\u001b[0m\u001b[0m\n\u001b[0;32m      5\u001b[0m                                                        column_output_specification.temperature_per_stage)))\n",
      "\u001b[1;31mAttributeError\u001b[0m: 'Simulation' object has no attribute 'column_input_specification'"
     ]
    }
   ],
   "source": [
    "# How to indirectly calculate the column diameter\n",
    "print(\"column diameter: \",str(flowsheet.CAL_Column_Diameter(flowsheet.column_input_specification.n_stages, \n",
    "                                                       column_output_specification.vapor_flow_per_stage,\n",
    "                                                       column_output_specification.molar_weight_per_stage,\n",
    "                                                       column_output_specification.temperature_per_stage)))\n",
    "print(\"column height: \",str(flowsheet.CAL_Column_Height(column_input_specifications.n_stages)))\n",
    "print(\"heat transfer area condenser: \",str(flowsheet.CAL_HT_Condenser_Area(column_output_specification.condenser_duty,\n",
    "                                                                       column_output_specification.temperature_per_stage[0])))\n",
    "print(\"heat transfer area reboiler: \",str(flowsheet.CAL_HT_Reboiler_Area(column_output_specification.reboiler_duty,\n",
    "                                                                     column_output_specification.temperature_per_stage[-1])))\n",
    "print(\"column LMTD: \",str(flowsheet.CAL_LMTD(column_output_specification.top_temperature)))\n",
    "print(\"column Investment Cost: \",str(flowsheet.CAL_InvestmentCost(column_input_specification.n_stages,\n",
    "                                                             column_output_specification.condenser_duty,\n",
    "                                                              t_reboiler,\n",
    "                                                              column_output_specification.reboiler_duty,\n",
    "                                                              t_condenser,\n",
    "                                                              column_output_specification.vapor_flow_per_stage,\n",
    "                                                              column_output_specification.molar_weight_per_stage,\n",
    "                                                              column_output_specification.temperature_per_stage)))\n",
    "print(\"column Operating Cost: \",str(flowsheet.CAL_OperatingCost(column_output_specification.reboiler_duty,\n",
    "                                                            column_output_specification.condenser_duty)))\n",
    "print(\"column Annually Operating Cost: \",str(flowsheet.CAL_Annual_OperatingCost(column_output_specification.reboiler_duty,\n",
    "                                                                            column_output_specification.condenser_duty)))"
   ]
  },
  {
   "cell_type": "code",
   "execution_count": null,
   "metadata": {},
   "outputs": [],
   "source": []
  }
 ],
 "metadata": {
  "interpreter": {
   "hash": "b3ba2566441a7c06988d0923437866b63cedc61552a5af99d1f4fb67d367b25f"
  },
  "kernelspec": {
   "display_name": "Python 3",
   "language": "python",
   "name": "python3"
  },
  "language_info": {
   "codemirror_mode": {
    "name": "ipython",
    "version": 3
   },
   "file_extension": ".py",
   "mimetype": "text/x-python",
   "name": "python",
   "nbconvert_exporter": "python",
   "pygments_lexer": "ipython3",
   "version": "3.8.5"
  }
 },
 "nbformat": 4,
 "nbformat_minor": 2
}
